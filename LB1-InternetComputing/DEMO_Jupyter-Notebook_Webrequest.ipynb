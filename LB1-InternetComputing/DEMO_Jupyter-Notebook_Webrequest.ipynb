{
  "cells": [
    {
      "cell_type": "markdown",
      "metadata": {
        "id": "fazi2miOAm_M"
      },
      "source": [
        "## DEMO : Jupyter Notebook Fetching Webpages with the Requests Library  \n",
        "\n",
        "**Requests** is good for times when you just need to fetch a webpage and do something with the raw HTML.  \n",
        "It doesn't give you a whole lot more, but does do that incredibly well!\n",
        "\n",
        "The [Requests homepage](https://docs.python-requests.org/en/latest/) has lots of good examples and full documentation.\n",
        "\n",
        "<br>\n",
        "\n",
        "---  \n",
        "History:\n",
        "+ 04.09.2023 v1 dbe --- initial version for KETE-HS23  \n",
        "\n",
        "\n",
        "---"
      ]
    },
    {
      "cell_type": "markdown",
      "source": [
        "## A) Import Library and Request Full Webpage"
      ],
      "metadata": {
        "id": "vsynrtJJCyXj"
      }
    },
    {
      "cell_type": "code",
      "execution_count": 1,
      "metadata": {
        "id": "UVFzHlBLAm_Y"
      },
      "outputs": [],
      "source": [
        "import requests"
      ]
    },
    {
      "cell_type": "code",
      "source": [
        "url = 'https://www.nau.ch/'\n",
        "response = requests.get(url)"
      ],
      "metadata": {
        "id": "OvBGI9iQDA7h"
      },
      "execution_count": 10,
      "outputs": []
    },
    {
      "cell_type": "markdown",
      "source": [
        "---  \n",
        "## B) Check the returned object (i.e. response)"
      ],
      "metadata": {
        "id": "8jHuhUmnDbYM"
      }
    },
    {
      "cell_type": "markdown",
      "metadata": {
        "id": "7RPPqR5vAm_a"
      },
      "source": [
        "+ Check HTTP Status  \n",
        "You can make sure the request actually worked (ie. [HTTP status code](http://en.wikipedia.org/wiki/List_of_HTTP_status_codes) 200)"
      ]
    },
    {
      "cell_type": "code",
      "execution_count": 11,
      "metadata": {
        "colab": {
          "base_uri": "https://localhost:8080/"
        },
        "id": "GhopDAI3Am_b",
        "outputId": "8c197173-0873-480b-9aff-feb9c56e54b8"
      },
      "outputs": [
        {
          "output_type": "execute_result",
          "data": {
            "text/plain": [
              "200"
            ]
          },
          "metadata": {},
          "execution_count": 11
        }
      ],
      "source": [
        "response.status_code"
      ]
    },
    {
      "cell_type": "markdown",
      "metadata": {
        "id": "y24sNzFnAm_c"
      },
      "source": [
        "+ Check Content Type  \n",
        "You can check what type of content the webpage returned (ie. text, json, csv, etc)"
      ]
    },
    {
      "cell_type": "code",
      "execution_count": 12,
      "metadata": {
        "colab": {
          "base_uri": "https://localhost:8080/",
          "height": 36
        },
        "id": "lsf80V3GAm_d",
        "outputId": "f243be8a-a596-4cfc-976a-21f27c0cca80"
      },
      "outputs": [
        {
          "output_type": "execute_result",
          "data": {
            "text/plain": [
              "'text/html; charset=UTF-8'"
            ],
            "application/vnd.google.colaboratory.intrinsic+json": {
              "type": "string"
            }
          },
          "metadata": {},
          "execution_count": 12
        }
      ],
      "source": [
        "response.headers['content-type']"
      ]
    },
    {
      "cell_type": "markdown",
      "metadata": {
        "id": "mYHsgoOTAm_e"
      },
      "source": [
        "+ Check Content Encoding  \n",
        "You can check the character set (sure hope it is utf-8!)"
      ]
    },
    {
      "cell_type": "code",
      "execution_count": 13,
      "metadata": {
        "colab": {
          "base_uri": "https://localhost:8080/",
          "height": 36
        },
        "id": "PKfC3xsOAm_f",
        "outputId": "39775eb4-7c13-40a6-8b02-afa1edc4a38c"
      },
      "outputs": [
        {
          "output_type": "execute_result",
          "data": {
            "text/plain": [
              "'UTF-8'"
            ],
            "application/vnd.google.colaboratory.intrinsic+json": {
              "type": "string"
            }
          },
          "metadata": {},
          "execution_count": 13
        }
      ],
      "source": [
        "response.encoding"
      ]
    },
    {
      "cell_type": "markdown",
      "metadata": {
        "id": "LlTUjYM0Am_g"
      },
      "source": [
        "+ Check Content itself  \n",
        "Of course, you can get the actual HTML text too!"
      ]
    },
    {
      "cell_type": "code",
      "execution_count": 14,
      "metadata": {
        "colab": {
          "base_uri": "https://localhost:8080/",
          "height": 54
        },
        "id": "l8VDiK5rAm_h",
        "outputId": "5759e7f5-07eb-484e-ed5e-0df7acb4aec2"
      },
      "outputs": [
        {
          "output_type": "execute_result",
          "data": {
            "text/plain": [
              "'<!DOCTYPE html><html lang=\"de\" data-critters-container><head>\\n        <meta charset=\"utf-8\">\\n        <title>News für die Schweiz - Nau.ch</title>\\n        <base href=\"/\">\\n\\n        <meta name=\"viewport\"'"
            ],
            "application/vnd.google.colaboratory.intrinsic+json": {
              "type": "string"
            }
          },
          "metadata": {},
          "execution_count": 14
        }
      ],
      "source": [
        "# show the first 200 characters of the content\n",
        "response.text[0:200]"
      ]
    },
    {
      "cell_type": "markdown",
      "source": [
        "+ Save Content locally\n",
        "You can save the Web content in a local file for further analysis and processing!"
      ],
      "metadata": {
        "id": "TaDY11ZuH-Yv"
      }
    },
    {
      "cell_type": "code",
      "source": [
        "with open('response.html', 'a') as fp:\n",
        "    fp.write(str(response.text))"
      ],
      "metadata": {
        "id": "B6hZYHlmGf5V"
      },
      "execution_count": 18,
      "outputs": []
    },
    {
      "cell_type": "markdown",
      "source": [
        "---  \n",
        "## C) Request Selected Webpage Parts"
      ],
      "metadata": {
        "id": "ifWzDF6TEOp2"
      }
    },
    {
      "cell_type": "markdown",
      "metadata": {
        "id": "ljaB5ivfAm_h"
      },
      "source": [
        "But sometimes you just want the header content, for instance if you want to resolve redirects without actually downloading the full webpage content."
      ]
    },
    {
      "cell_type": "code",
      "source": [
        "url = 'https://www.nau.ch/'"
      ],
      "metadata": {
        "id": "YddCfIO6IdY0"
      },
      "execution_count": 19,
      "outputs": []
    },
    {
      "cell_type": "code",
      "execution_count": 25,
      "metadata": {
        "id": "sqkK9l05Am_i"
      },
      "outputs": [],
      "source": [
        "response = requests.head(url, allow_redirects=True)"
      ]
    },
    {
      "cell_type": "code",
      "source": [
        "# show all possible parts to get from a response object\n",
        "vars(response).keys()"
      ],
      "metadata": {
        "colab": {
          "base_uri": "https://localhost:8080/"
        },
        "id": "vSbbC9K8JfAD",
        "outputId": "ca7e8463-d11d-4d94-a468-185176d67a37"
      },
      "execution_count": 28,
      "outputs": [
        {
          "output_type": "execute_result",
          "data": {
            "text/plain": [
              "dict_keys(['_content', '_content_consumed', '_next', 'status_code', 'headers', 'raw', 'url', 'encoding', 'history', 'reason', 'cookies', 'elapsed', 'request', 'connection'])"
            ]
          },
          "metadata": {},
          "execution_count": 28
        }
      ]
    },
    {
      "cell_type": "code",
      "execution_count": 38,
      "metadata": {
        "collapsed": true,
        "colab": {
          "base_uri": "https://localhost:8080/"
        },
        "id": "-jHspNg7Am_i",
        "outputId": "65066d79-13b9-421e-d664-5dab98196b7a"
      },
      "outputs": [
        {
          "output_type": "execute_result",
          "data": {
            "text/plain": [
              "{'Date': 'Tue, 05 Sep 2023 11:41:32 GMT', 'Server': 'Apache', 'Cache-Control': 'no-cache, max-age=0', 'Vary': 'Accept-Encoding', 'Content-Encoding': 'gzip', 'Expires': 'Tue, 05 Sep 2023 11:41:32 GMT', 'Access-Control-Allow-Origin': '*', 'Access-Control-Allow-Headers': '*', 'Content-Type': 'text/html; charset=UTF-8', 'Referrer-Policy': 'no-referrer-when-downgrade'}"
            ]
          },
          "metadata": {},
          "execution_count": 38
        }
      ],
      "source": [
        "response.headers"
      ]
    },
    {
      "cell_type": "code",
      "execution_count": null,
      "metadata": {
        "collapsed": true,
        "id": "8aqSZYgHAm_i"
      },
      "outputs": [],
      "source": []
    },
    {
      "cell_type": "code",
      "execution_count": null,
      "metadata": {
        "collapsed": true,
        "id": "obBrqPk_Am_i"
      },
      "outputs": [],
      "source": []
    },
    {
      "cell_type": "code",
      "execution_count": null,
      "metadata": {
        "collapsed": true,
        "id": "Y6JpTNqJAm_j"
      },
      "outputs": [],
      "source": []
    },
    {
      "cell_type": "code",
      "execution_count": null,
      "metadata": {
        "collapsed": true,
        "id": "24c7sZfwAm_j"
      },
      "outputs": [],
      "source": []
    },
    {
      "cell_type": "code",
      "execution_count": null,
      "metadata": {
        "collapsed": true,
        "id": "S4fV6-BtAm_j"
      },
      "outputs": [],
      "source": []
    },
    {
      "cell_type": "code",
      "execution_count": null,
      "metadata": {
        "collapsed": true,
        "id": "R2DDjVWTAm_j"
      },
      "outputs": [],
      "source": []
    },
    {
      "cell_type": "code",
      "execution_count": null,
      "metadata": {
        "collapsed": true,
        "id": "ZkGR8q_qAm_j"
      },
      "outputs": [],
      "source": []
    },
    {
      "cell_type": "code",
      "execution_count": null,
      "metadata": {
        "collapsed": true,
        "id": "qU9cXGGGAm_k"
      },
      "outputs": [],
      "source": []
    }
  ],
  "metadata": {
    "kernelspec": {
      "display_name": "Python 3",
      "language": "python",
      "name": "python3"
    },
    "language_info": {
      "codemirror_mode": {
        "name": "ipython",
        "version": 3
      },
      "file_extension": ".py",
      "mimetype": "text/x-python",
      "name": "python",
      "nbconvert_exporter": "python",
      "pygments_lexer": "ipython3",
      "version": "3.5.3"
    },
    "colab": {
      "provenance": []
    }
  },
  "nbformat": 4,
  "nbformat_minor": 0
}